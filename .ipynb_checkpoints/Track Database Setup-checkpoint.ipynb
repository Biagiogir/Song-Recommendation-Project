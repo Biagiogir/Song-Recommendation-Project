{
 "cells": [
  {
   "cell_type": "code",
   "execution_count": 136,
   "id": "cd046286",
   "metadata": {},
   "outputs": [],
   "source": [
    "import config"
   ]
  },
  {
   "cell_type": "code",
   "execution_count": 137,
   "id": "d15bfa0d",
   "metadata": {},
   "outputs": [],
   "source": [
    "import spotipy\n",
    "import json\n",
    "import pprint\n",
    "from bs4 import BeautifulSoup\n",
    "import requests\n",
    "import pandas as pd\n",
    "import numpy as np\n",
    "from pyjarowinkler import distance\n",
    "from spotipy.oauth2 import SpotifyClientCredentials\n",
    "\n",
    "\n",
    "#Initialize SpotiPy with user credentias\n",
    "sp = spotipy.Spotify(auth_manager=SpotifyClientCredentials(client_id= config.c_id,\n",
    "                                                           client_secret= config.c_se))"
   ]
  },
  {
   "cell_type": "markdown",
   "id": "d51fa5c2",
   "metadata": {},
   "source": [
    "### Getting playlists"
   ]
  },
  {
   "cell_type": "code",
   "execution_count": 138,
   "id": "8865ec4d",
   "metadata": {},
   "outputs": [],
   "source": [
    "# locating playlist\n",
    "playlist_country = sp.user_playlist_tracks(\"spotify\", \"3RPaWvjgg1SAi8oIh09Irp\",market=\"GB\")\n",
    "playlist_rock = sp.user_playlist_tracks(\"spotify\", \"7KMtxb9kh3TtVvJTdLtJ2K\",market=\"GB\")\n",
    "playlist_house = sp.user_playlist_tracks(\"spotify\", \"4VXFwpNvQysB8yS6E2t2ls\",market=\"GB\")\n",
    "playlist_classicals = sp.user_playlist_tracks(\"spotify\", \"1h0CEZCm6IbFTbxThn6Xcs\",market=\"GB\")\n",
    "playlist_dance = sp.user_playlist_tracks(\"spotify\", \"794tEP1QrKMcaQcFmEyFst\",market=\"GB\")\n",
    "playlist_hiphop = sp.user_playlist_tracks(\"spotify\", \"0agbFCQZvK4q9WR0d4Iqcj\",market=\"GB\")\n",
    "playlist_pop = sp.user_playlist_tracks(\"spotify\", \"2YRe7HRKNRvXdJBp9nXFza\",market=\"GB\")\n",
    "playlist_jazz = sp.user_playlist_tracks(\"spotify\", \"7g2KyiE9RI5F1fV60OIUu4\",market=\"GB\")\n",
    "playlist_kpop = sp.user_playlist_tracks(\"spotify\", \"37i9dQZF1DX14fiWYoe7Oh\",market=\"GB\")\n",
    "playlist_rnb = sp.user_playlist_tracks(\"spotify\", \"37i9dQZF1DX04mASjTsvf0\",market=\"GB\")\n",
    "playlist_metal = sp.user_playlist_tracks(\"spotify\", \"37i9dQZF1DX9qNs32fujYe\",market=\"GB\")\n",
    "playlist_techno = sp.user_playlist_tracks(\"spotify\", \"37i9dQZF1DX6J5NfMJS675\",market=\"GB\")"
   ]
  },
  {
   "cell_type": "markdown",
   "id": "009b5a49",
   "metadata": {},
   "source": [
    "### Foundation for tracks"
   ]
  },
  {
   "cell_type": "code",
   "execution_count": 139,
   "id": "73b41642",
   "metadata": {},
   "outputs": [],
   "source": [
    "track=[]"
   ]
  },
  {
   "cell_type": "code",
   "execution_count": 140,
   "id": "9473bf4f",
   "metadata": {},
   "outputs": [],
   "source": [
    "# extracting tracks from playlist\n",
    "def get_playlist_tracks(username, playlist_id):\n",
    "    results = sp.user_playlist_tracks(username,playlist_id,market=\"GB\")\n",
    "    tracks = results['items']\n",
    "    while results['next']:\n",
    "        results = sp.next(results)\n",
    "        tracks.extend(results['items'])\n",
    "    return tracks"
   ]
  },
  {
   "cell_type": "markdown",
   "id": "7bc9c68a",
   "metadata": {},
   "source": [
    "### Foundation for artists"
   ]
  },
  {
   "cell_type": "code",
   "execution_count": 141,
   "id": "dbe523b7",
   "metadata": {},
   "outputs": [],
   "source": [
    "artist=[]"
   ]
  },
  {
   "cell_type": "code",
   "execution_count": 142,
   "id": "b1972813",
   "metadata": {},
   "outputs": [],
   "source": [
    "# extracting artists from track\n",
    "def get_artists_from_track(track):\n",
    "    return [artist[\"name\"] for artist in track[\"artists\"]]"
   ]
  },
  {
   "cell_type": "code",
   "execution_count": 143,
   "id": "b16d54fb",
   "metadata": {},
   "outputs": [],
   "source": [
    "# extracting artists from playlist\n",
    "def get_artists_from_playlist(playlist_id):\n",
    "    tracks_from_playlist = get_playlist_tracks(\"spotify\", playlist_id)\n",
    "    return list(get_artists_from_track(track[\"track\"]) for track in tracks_from_playlist)"
   ]
  },
  {
   "cell_type": "markdown",
   "id": "cda99039",
   "metadata": {},
   "source": [
    "### Foundation for track ids"
   ]
  },
  {
   "cell_type": "code",
   "execution_count": 144,
   "id": "0e062530",
   "metadata": {},
   "outputs": [],
   "source": [
    "track_id=[]"
   ]
  },
  {
   "cell_type": "markdown",
   "id": "1da95517",
   "metadata": {},
   "source": [
    "### Combining data"
   ]
  },
  {
   "cell_type": "code",
   "execution_count": 145,
   "id": "a701575d",
   "metadata": {},
   "outputs": [],
   "source": [
    "# creating a dataframe\n",
    "track_df = pd.DataFrame({'title':track,\n",
    "                     'artist':artist,\n",
    "                     'id':track_id})"
   ]
  },
  {
   "cell_type": "code",
   "execution_count": 146,
   "id": "65572b9c",
   "metadata": {},
   "outputs": [],
   "source": [
    "# function to call tracks, artists and track ids from a playlist\n",
    "def append_info(playlist_id):\n",
    "    global track_df\n",
    "    new_track_list = get_playlist_tracks(\"spotify\", playlist_id)\n",
    "    new_artist_list = get_artists_from_playlist(playlist_id)\n",
    "    new_track=[]\n",
    "    new_artist=[]\n",
    "    new_track_id=[]\n",
    "    for i in range(0, len(new_track_list)):\n",
    "        new_track.append(new_track_list[i]['track']['name'])\n",
    "    for i in new_artist_list:\n",
    "        new_artist.append(\", \".join(i))\n",
    "    for i in range(0, len(new_track_list)):\n",
    "        new_track_id.append(new_track_list[i]['track']['id']) \n",
    "    new_df = pd.DataFrame({'title':new_track,\n",
    "                         'artist':new_artist,\n",
    "                         'id':new_track_id})\n",
    "    track_df = track_df.append(new_df)    "
   ]
  },
  {
   "cell_type": "code",
   "execution_count": 147,
   "id": "36d3edd6",
   "metadata": {},
   "outputs": [],
   "source": [
    "append_info(\"3RPaWvjgg1SAi8oIh09Irp\")"
   ]
  },
  {
   "cell_type": "code",
   "execution_count": 148,
   "id": "6f4de23b",
   "metadata": {},
   "outputs": [],
   "source": [
    "append_info(\"7KMtxb9kh3TtVvJTdLtJ2K\")"
   ]
  },
  {
   "cell_type": "code",
   "execution_count": 149,
   "id": "af2fc5f2",
   "metadata": {},
   "outputs": [],
   "source": [
    "append_info(\"4VXFwpNvQysB8yS6E2t2ls\")"
   ]
  },
  {
   "cell_type": "code",
   "execution_count": 150,
   "id": "3bbe018d",
   "metadata": {},
   "outputs": [],
   "source": [
    "append_info(\"1h0CEZCm6IbFTbxThn6Xcs\")"
   ]
  },
  {
   "cell_type": "code",
   "execution_count": 151,
   "id": "3dd5a182",
   "metadata": {},
   "outputs": [],
   "source": [
    "append_info(\"794tEP1QrKMcaQcFmEyFst\")"
   ]
  },
  {
   "cell_type": "code",
   "execution_count": 152,
   "id": "3914c56b",
   "metadata": {},
   "outputs": [],
   "source": [
    "append_info(\"0agbFCQZvK4q9WR0d4Iqcj\")"
   ]
  },
  {
   "cell_type": "code",
   "execution_count": 153,
   "id": "a313622c",
   "metadata": {},
   "outputs": [],
   "source": [
    "append_info(\"2YRe7HRKNRvXdJBp9nXFza\")"
   ]
  },
  {
   "cell_type": "code",
   "execution_count": 154,
   "id": "fcb08bd4",
   "metadata": {},
   "outputs": [],
   "source": [
    "append_info(\"7g2KyiE9RI5F1fV60OIUu4\")"
   ]
  },
  {
   "cell_type": "code",
   "execution_count": 155,
   "id": "027ec6f4",
   "metadata": {},
   "outputs": [],
   "source": [
    "append_info(\"37i9dQZF1DX14fiWYoe7Oh\")"
   ]
  },
  {
   "cell_type": "code",
   "execution_count": 156,
   "id": "a70659fe",
   "metadata": {},
   "outputs": [],
   "source": [
    "append_info(\"37i9dQZF1DX04mASjTsvf0\")"
   ]
  },
  {
   "cell_type": "code",
   "execution_count": 157,
   "id": "da22f0eb",
   "metadata": {},
   "outputs": [],
   "source": [
    "append_info(\"37i9dQZF1DX9qNs32fujYe\")"
   ]
  },
  {
   "cell_type": "code",
   "execution_count": 158,
   "id": "44f50978",
   "metadata": {},
   "outputs": [],
   "source": [
    "append_info(\"37i9dQZF1DX6J5NfMJS675\")"
   ]
  },
  {
   "cell_type": "code",
   "execution_count": 160,
   "id": "6b5ac2bb",
   "metadata": {},
   "outputs": [],
   "source": [
    "track_df.dropna(inplace=True)"
   ]
  },
  {
   "cell_type": "code",
   "execution_count": 114,
   "id": "eb4a5301",
   "metadata": {},
   "outputs": [
    {
     "data": {
      "text/html": [
       "<div>\n",
       "<style scoped>\n",
       "    .dataframe tbody tr th:only-of-type {\n",
       "        vertical-align: middle;\n",
       "    }\n",
       "\n",
       "    .dataframe tbody tr th {\n",
       "        vertical-align: top;\n",
       "    }\n",
       "\n",
       "    .dataframe thead th {\n",
       "        text-align: right;\n",
       "    }\n",
       "</style>\n",
       "<table border=\"1\" class=\"dataframe\">\n",
       "  <thead>\n",
       "    <tr style=\"text-align: right;\">\n",
       "      <th></th>\n",
       "      <th>title</th>\n",
       "      <th>artist</th>\n",
       "      <th>id</th>\n",
       "    </tr>\n",
       "  </thead>\n",
       "  <tbody>\n",
       "    <tr>\n",
       "      <th>108</th>\n",
       "      <td>Me, Myself &amp; I</td>\n",
       "      <td>De La Soul</td>\n",
       "      <td>3SdOP61TT2l8YQpSaUtsWR</td>\n",
       "    </tr>\n",
       "    <tr>\n",
       "      <th>146</th>\n",
       "      <td>Me, Myself &amp; I</td>\n",
       "      <td>G-Eazy, Bebe Rexha</td>\n",
       "      <td>40YcuQysJ0KlGQTeGUosTC</td>\n",
       "    </tr>\n",
       "  </tbody>\n",
       "</table>\n",
       "</div>"
      ],
      "text/plain": [
       "              title              artist                      id\n",
       "108  Me, Myself & I          De La Soul  3SdOP61TT2l8YQpSaUtsWR\n",
       "146  Me, Myself & I  G-Eazy, Bebe Rexha  40YcuQysJ0KlGQTeGUosTC"
      ]
     },
     "execution_count": 114,
     "metadata": {},
     "output_type": "execute_result"
    }
   ],
   "source": [
    "track_df[track_df.title == \"Me, Myself & I\"]"
   ]
  },
  {
   "cell_type": "code",
   "execution_count": 102,
   "id": "759f973c",
   "metadata": {},
   "outputs": [],
   "source": [
    "mmi1 = track_df[track_df.title==\"Me, Myself & I\"].iloc[0][0]"
   ]
  },
  {
   "cell_type": "code",
   "execution_count": 103,
   "id": "8f2079ba",
   "metadata": {},
   "outputs": [],
   "source": [
    "mmi2 = track_df[track_df.title==\"Me, Myself & I\"].iloc[1][0]"
   ]
  },
  {
   "cell_type": "code",
   "execution_count": 104,
   "id": "73760866",
   "metadata": {},
   "outputs": [
    {
     "data": {
      "text/plain": [
       "True"
      ]
     },
     "execution_count": 104,
     "metadata": {},
     "output_type": "execute_result"
    }
   ],
   "source": [
    "mmi1 == mmi2"
   ]
  },
  {
   "cell_type": "code",
   "execution_count": 167,
   "id": "5e5760fd",
   "metadata": {},
   "outputs": [
    {
     "data": {
      "text/html": [
       "<div>\n",
       "<style scoped>\n",
       "    .dataframe tbody tr th:only-of-type {\n",
       "        vertical-align: middle;\n",
       "    }\n",
       "\n",
       "    .dataframe tbody tr th {\n",
       "        vertical-align: top;\n",
       "    }\n",
       "\n",
       "    .dataframe thead th {\n",
       "        text-align: right;\n",
       "    }\n",
       "</style>\n",
       "<table border=\"1\" class=\"dataframe\">\n",
       "  <thead>\n",
       "    <tr style=\"text-align: right;\">\n",
       "      <th></th>\n",
       "      <th>title</th>\n",
       "      <th>artist</th>\n",
       "      <th>id</th>\n",
       "    </tr>\n",
       "  </thead>\n",
       "  <tbody>\n",
       "    <tr>\n",
       "      <th>81</th>\n",
       "      <td>Mr. Brightside</td>\n",
       "      <td>The Killers</td>\n",
       "      <td>003vvx7Niy0yvhvHt4a68B</td>\n",
       "    </tr>\n",
       "    <tr>\n",
       "      <th>21</th>\n",
       "      <td>Mr. Brightside</td>\n",
       "      <td>The Killers</td>\n",
       "      <td>003vvx7Niy0yvhvHt4a68B</td>\n",
       "    </tr>\n",
       "    <tr>\n",
       "      <th>2693</th>\n",
       "      <td>Grits</td>\n",
       "      <td>RZA</td>\n",
       "      <td>00762tXbSj2w2bQMVydJZn</td>\n",
       "    </tr>\n",
       "    <tr>\n",
       "      <th>275</th>\n",
       "      <td>Grits</td>\n",
       "      <td>RZA</td>\n",
       "      <td>00762tXbSj2w2bQMVydJZn</td>\n",
       "    </tr>\n",
       "    <tr>\n",
       "      <th>1660</th>\n",
       "      <td>Ain't No Future In Yo' Frontin'</td>\n",
       "      <td>MC Breed, DFC</td>\n",
       "      <td>00ReeHCY0FQUyuAUyPJdnk</td>\n",
       "    </tr>\n",
       "    <tr>\n",
       "      <th>...</th>\n",
       "      <td>...</td>\n",
       "      <td>...</td>\n",
       "      <td>...</td>\n",
       "    </tr>\n",
       "    <tr>\n",
       "      <th>1000</th>\n",
       "      <td>Tearz (feat. RZA, Ghostface Killah, Raekwon &amp; ...</td>\n",
       "      <td>Wu-Tang Clan, RZA, Ghostface Killah, Raekwon, ...</td>\n",
       "      <td>7y5zXpTN4J7K0PngQYa655</td>\n",
       "    </tr>\n",
       "    <tr>\n",
       "      <th>82</th>\n",
       "      <td>Wonderwall - Remastered</td>\n",
       "      <td>Oasis</td>\n",
       "      <td>7ygpwy2qP3NbrxVkHvUhXY</td>\n",
       "    </tr>\n",
       "    <tr>\n",
       "      <th>239</th>\n",
       "      <td>Wonderwall - Remastered</td>\n",
       "      <td>Oasis</td>\n",
       "      <td>7ygpwy2qP3NbrxVkHvUhXY</td>\n",
       "    </tr>\n",
       "    <tr>\n",
       "      <th>2749</th>\n",
       "      <td>I Got a Story to Tell - 2014 Remaster</td>\n",
       "      <td>The Notorious B.I.G.</td>\n",
       "      <td>7zfmhBiUvGoHz76NO1d5bZ</td>\n",
       "    </tr>\n",
       "    <tr>\n",
       "      <th>97</th>\n",
       "      <td>I Got a Story to Tell - 2014 Remaster</td>\n",
       "      <td>The Notorious B.I.G.</td>\n",
       "      <td>7zfmhBiUvGoHz76NO1d5bZ</td>\n",
       "    </tr>\n",
       "  </tbody>\n",
       "</table>\n",
       "<p>817 rows × 3 columns</p>\n",
       "</div>"
      ],
      "text/plain": [
       "                                                  title  \\\n",
       "81                                       Mr. Brightside   \n",
       "21                                       Mr. Brightside   \n",
       "2693                                              Grits   \n",
       "275                                               Grits   \n",
       "1660                    Ain't No Future In Yo' Frontin'   \n",
       "...                                                 ...   \n",
       "1000  Tearz (feat. RZA, Ghostface Killah, Raekwon & ...   \n",
       "82                              Wonderwall - Remastered   \n",
       "239                             Wonderwall - Remastered   \n",
       "2749              I Got a Story to Tell - 2014 Remaster   \n",
       "97                I Got a Story to Tell - 2014 Remaster   \n",
       "\n",
       "                                                 artist  \\\n",
       "81                                          The Killers   \n",
       "21                                          The Killers   \n",
       "2693                                                RZA   \n",
       "275                                                 RZA   \n",
       "1660                                      MC Breed, DFC   \n",
       "...                                                 ...   \n",
       "1000  Wu-Tang Clan, RZA, Ghostface Killah, Raekwon, ...   \n",
       "82                                                Oasis   \n",
       "239                                               Oasis   \n",
       "2749                               The Notorious B.I.G.   \n",
       "97                                 The Notorious B.I.G.   \n",
       "\n",
       "                          id  \n",
       "81    003vvx7Niy0yvhvHt4a68B  \n",
       "21    003vvx7Niy0yvhvHt4a68B  \n",
       "2693  00762tXbSj2w2bQMVydJZn  \n",
       "275   00762tXbSj2w2bQMVydJZn  \n",
       "1660  00ReeHCY0FQUyuAUyPJdnk  \n",
       "...                      ...  \n",
       "1000  7y5zXpTN4J7K0PngQYa655  \n",
       "82    7ygpwy2qP3NbrxVkHvUhXY  \n",
       "239   7ygpwy2qP3NbrxVkHvUhXY  \n",
       "2749  7zfmhBiUvGoHz76NO1d5bZ  \n",
       "97    7zfmhBiUvGoHz76NO1d5bZ  \n",
       "\n",
       "[817 rows x 3 columns]"
      ]
     },
     "execution_count": 167,
     "metadata": {},
     "output_type": "execute_result"
    }
   ],
   "source": [
    "# checking duplicates\n",
    "track_df[track_df.id.duplicated(keep=False)].sort_values(by =['id'])"
   ]
  },
  {
   "cell_type": "code",
   "execution_count": 182,
   "id": "74503710",
   "metadata": {},
   "outputs": [],
   "source": [
    "# dropping duplicates\n",
    "track_df.drop_duplicates(subset=['id'],keep='first',inplace=True)"
   ]
  },
  {
   "cell_type": "code",
   "execution_count": 184,
   "id": "3611064b",
   "metadata": {},
   "outputs": [],
   "source": [
    "# saving dataframe to a csv\n",
    "from pathlib import Path  \n",
    "filepath = Path('track_df.csv')  \n",
    "filepath.parent.mkdir(parents=True, exist_ok=True)\n",
    "track_df.to_csv(filepath, index=False)"
   ]
  },
  {
   "cell_type": "code",
   "execution_count": null,
   "id": "88f082fe",
   "metadata": {},
   "outputs": [],
   "source": []
  }
 ],
 "metadata": {
  "kernelspec": {
   "display_name": "Python 3 (ipykernel)",
   "language": "python",
   "name": "python3"
  },
  "language_info": {
   "codemirror_mode": {
    "name": "ipython",
    "version": 3
   },
   "file_extension": ".py",
   "mimetype": "text/x-python",
   "name": "python",
   "nbconvert_exporter": "python",
   "pygments_lexer": "ipython3",
   "version": "3.9.7"
  }
 },
 "nbformat": 4,
 "nbformat_minor": 5
}
