{
 "cells": [
  {
   "cell_type": "code",
   "execution_count": 1,
   "id": "3d4e6669",
   "metadata": {},
   "outputs": [],
   "source": [
    "import config"
   ]
  },
  {
   "cell_type": "code",
   "execution_count": 3,
   "id": "d286dc56",
   "metadata": {},
   "outputs": [],
   "source": [
    "import spotipy\n",
    "import json\n",
    "from spotipy.oauth2 import SpotifyClientCredentials\n",
    "\n",
    "\n",
    "#Initialize SpotiPy with user credentias\n",
    "sp = spotipy.Spotify(auth_manager=SpotifyClientCredentials(client_id= config.c_id,\n",
    "                                                           client_secret= config.c_se))"
   ]
  },
  {
   "cell_type": "code",
   "execution_count": 4,
   "id": "f596d08b",
   "metadata": {},
   "outputs": [
    {
     "data": {
      "text/plain": [
       "{'tracks': {'href': 'https://api.spotify.com/v1/search?query=Lose+yourself&type=track&market=GB&offset=0&limit=1',\n",
       "  'items': [{'album': {'album_type': 'single',\n",
       "     'artists': [{'external_urls': {'spotify': 'https://open.spotify.com/artist/7dGJo4pcD2V6oG8kP0tJRR'},\n",
       "       'href': 'https://api.spotify.com/v1/artists/7dGJo4pcD2V6oG8kP0tJRR',\n",
       "       'id': '7dGJo4pcD2V6oG8kP0tJRR',\n",
       "       'name': 'Eminem',\n",
       "       'type': 'artist',\n",
       "       'uri': 'spotify:artist:7dGJo4pcD2V6oG8kP0tJRR'}],\n",
       "     'external_urls': {'spotify': 'https://open.spotify.com/album/1rfORa9iYmocEsnnZGMVC4'},\n",
       "     'href': 'https://api.spotify.com/v1/albums/1rfORa9iYmocEsnnZGMVC4',\n",
       "     'id': '1rfORa9iYmocEsnnZGMVC4',\n",
       "     'images': [{'height': 640,\n",
       "       'url': 'https://i.scdn.co/image/ab67616d0000b273b6ef2ebd34efb08cb76f6eec',\n",
       "       'width': 640},\n",
       "      {'height': 300,\n",
       "       'url': 'https://i.scdn.co/image/ab67616d00001e02b6ef2ebd34efb08cb76f6eec',\n",
       "       'width': 300},\n",
       "      {'height': 64,\n",
       "       'url': 'https://i.scdn.co/image/ab67616d00004851b6ef2ebd34efb08cb76f6eec',\n",
       "       'width': 64}],\n",
       "     'name': 'Just Lose It',\n",
       "     'release_date': '2004-01-01',\n",
       "     'release_date_precision': 'day',\n",
       "     'total_tracks': 2,\n",
       "     'type': 'album',\n",
       "     'uri': 'spotify:album:1rfORa9iYmocEsnnZGMVC4'},\n",
       "    'artists': [{'external_urls': {'spotify': 'https://open.spotify.com/artist/7dGJo4pcD2V6oG8kP0tJRR'},\n",
       "      'href': 'https://api.spotify.com/v1/artists/7dGJo4pcD2V6oG8kP0tJRR',\n",
       "      'id': '7dGJo4pcD2V6oG8kP0tJRR',\n",
       "      'name': 'Eminem',\n",
       "      'type': 'artist',\n",
       "      'uri': 'spotify:artist:7dGJo4pcD2V6oG8kP0tJRR'}],\n",
       "    'disc_number': 1,\n",
       "    'duration_ms': 322226,\n",
       "    'explicit': True,\n",
       "    'external_ids': {'isrc': 'USIR10211559'},\n",
       "    'external_urls': {'spotify': 'https://open.spotify.com/track/1v7L65Lzy0j0vdpRjJewt1'},\n",
       "    'href': 'https://api.spotify.com/v1/tracks/1v7L65Lzy0j0vdpRjJewt1',\n",
       "    'id': '1v7L65Lzy0j0vdpRjJewt1',\n",
       "    'is_local': False,\n",
       "    'is_playable': True,\n",
       "    'name': 'Lose Yourself - From \"8 Mile\" Soundtrack',\n",
       "    'popularity': 79,\n",
       "    'preview_url': None,\n",
       "    'track_number': 2,\n",
       "    'type': 'track',\n",
       "    'uri': 'spotify:track:1v7L65Lzy0j0vdpRjJewt1'}],\n",
       "  'limit': 1,\n",
       "  'next': 'https://api.spotify.com/v1/search?query=Lose+yourself&type=track&market=GB&offset=1&limit=1',\n",
       "  'offset': 0,\n",
       "  'previous': None,\n",
       "  'total': 4145}}"
      ]
     },
     "execution_count": 4,
     "metadata": {},
     "output_type": "execute_result"
    }
   ],
   "source": [
    "results = sp.search(q=\"Lose yourself\",limit=1,market=\"GB\")\n",
    "results"
   ]
  },
  {
   "cell_type": "code",
   "execution_count": 31,
   "id": "2134cd59",
   "metadata": {},
   "outputs": [
    {
     "data": {
      "text/plain": [
       "'1v7L65Lzy0j0vdpRjJewt1'"
      ]
     },
     "execution_count": 31,
     "metadata": {},
     "output_type": "execute_result"
    }
   ],
   "source": [
    "results[\"tracks\"][\"items\"][0][\"id\"]"
   ]
  },
  {
   "cell_type": "code",
   "execution_count": 32,
   "id": "588317da",
   "metadata": {},
   "outputs": [
    {
     "name": "stdout",
     "output_type": "stream",
     "text": [
      "{'tracks': {'href': 'https://api.spotify.com/v1/search?query=Lose+yourself&type=track&market=GB&offset=0&limit=1',\n",
      "            'items': [{'album': {'album_type': 'single',\n",
      "                                 'artists': [{'external_urls': {'spotify': 'https://open.spotify.com/artist/7dGJo4pcD2V6oG8kP0tJRR'},\n",
      "                                              'href': 'https://api.spotify.com/v1/artists/7dGJo4pcD2V6oG8kP0tJRR',\n",
      "                                              'id': '7dGJo4pcD2V6oG8kP0tJRR',\n",
      "                                              'name': 'Eminem',\n",
      "                                              'type': 'artist',\n",
      "                                              'uri': 'spotify:artist:7dGJo4pcD2V6oG8kP0tJRR'}],\n",
      "                                 'external_urls': {'spotify': 'https://open.spotify.com/album/1rfORa9iYmocEsnnZGMVC4'},\n",
      "                                 'href': 'https://api.spotify.com/v1/albums/1rfORa9iYmocEsnnZGMVC4',\n",
      "                                 'id': '1rfORa9iYmocEsnnZGMVC4',\n",
      "                                 'images': [{'height': 640,\n",
      "                                             'url': 'https://i.scdn.co/image/ab67616d0000b273b6ef2ebd34efb08cb76f6eec',\n",
      "                                             'width': 640},\n",
      "                                            {'height': 300,\n",
      "                                             'url': 'https://i.scdn.co/image/ab67616d00001e02b6ef2ebd34efb08cb76f6eec',\n",
      "                                             'width': 300},\n",
      "                                            {'height': 64,\n",
      "                                             'url': 'https://i.scdn.co/image/ab67616d00004851b6ef2ebd34efb08cb76f6eec',\n",
      "                                             'width': 64}],\n",
      "                                 'name': 'Just Lose It',\n",
      "                                 'release_date': '2004-01-01',\n",
      "                                 'release_date_precision': 'day',\n",
      "                                 'total_tracks': 2,\n",
      "                                 'type': 'album',\n",
      "                                 'uri': 'spotify:album:1rfORa9iYmocEsnnZGMVC4'},\n",
      "                       'artists': [{'external_urls': {'spotify': 'https://open.spotify.com/artist/7dGJo4pcD2V6oG8kP0tJRR'},\n",
      "                                    'href': 'https://api.spotify.com/v1/artists/7dGJo4pcD2V6oG8kP0tJRR',\n",
      "                                    'id': '7dGJo4pcD2V6oG8kP0tJRR',\n",
      "                                    'name': 'Eminem',\n",
      "                                    'type': 'artist',\n",
      "                                    'uri': 'spotify:artist:7dGJo4pcD2V6oG8kP0tJRR'}],\n",
      "                       'disc_number': 1,\n",
      "                       'duration_ms': 322226,\n",
      "                       'explicit': True,\n",
      "                       'external_ids': {'isrc': 'USIR10211559'},\n",
      "                       'external_urls': {'spotify': 'https://open.spotify.com/track/1v7L65Lzy0j0vdpRjJewt1'},\n",
      "                       'href': 'https://api.spotify.com/v1/tracks/1v7L65Lzy0j0vdpRjJewt1',\n",
      "                       'id': '1v7L65Lzy0j0vdpRjJewt1',\n",
      "                       'is_local': False,\n",
      "                       'is_playable': True,\n",
      "                       'name': 'Lose Yourself - From \"8 Mile\" Soundtrack',\n",
      "                       'popularity': 79,\n",
      "                       'preview_url': None,\n",
      "                       'track_number': 2,\n",
      "                       'type': 'track',\n",
      "                       'uri': 'spotify:track:1v7L65Lzy0j0vdpRjJewt1'}],\n",
      "            'limit': 1,\n",
      "            'next': 'https://api.spotify.com/v1/search?query=Lose+yourself&type=track&market=GB&offset=1&limit=1',\n",
      "            'offset': 0,\n",
      "            'previous': None,\n",
      "            'total': 4145}}\n"
     ]
    }
   ],
   "source": [
    "import pprint\n",
    "pprint.pprint(results)"
   ]
  },
  {
   "cell_type": "code",
   "execution_count": null,
   "id": "8865ec4d",
   "metadata": {},
   "outputs": [],
   "source": []
  },
  {
   "cell_type": "code",
   "execution_count": null,
   "id": "8c5eda8f",
   "metadata": {},
   "outputs": [],
   "source": []
  },
  {
   "cell_type": "code",
   "execution_count": null,
   "id": "adef6ddc",
   "metadata": {},
   "outputs": [],
   "source": []
  },
  {
   "cell_type": "code",
   "execution_count": null,
   "id": "7ee53a0d",
   "metadata": {},
   "outputs": [],
   "source": []
  }
 ],
 "metadata": {
  "kernelspec": {
   "display_name": "Python 3 (ipykernel)",
   "language": "python",
   "name": "python3"
  },
  "language_info": {
   "codemirror_mode": {
    "name": "ipython",
    "version": 3
   },
   "file_extension": ".py",
   "mimetype": "text/x-python",
   "name": "python",
   "nbconvert_exporter": "python",
   "pygments_lexer": "ipython3",
   "version": "3.9.7"
  }
 },
 "nbformat": 4,
 "nbformat_minor": 5
}
