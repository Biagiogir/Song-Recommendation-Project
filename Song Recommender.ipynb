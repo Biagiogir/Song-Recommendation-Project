{
 "cells": [
  {
   "cell_type": "code",
   "execution_count": 109,
   "id": "7d9093bc",
   "metadata": {},
   "outputs": [],
   "source": [
    "import config"
   ]
  },
  {
   "cell_type": "code",
   "execution_count": 110,
   "id": "ef99c54e",
   "metadata": {},
   "outputs": [],
   "source": [
    "import spotipy\n",
    "import json\n",
    "import pprint\n",
    "from bs4 import BeautifulSoup\n",
    "import requests\n",
    "import numpy as np\n",
    "from pyjarowinkler import distance\n",
    "from spotipy.oauth2 import SpotifyClientCredentials\n",
    "\n",
    "#Initialize SpotiPy with user credentias\n",
    "sp = spotipy.Spotify(auth_manager=SpotifyClientCredentials(client_id= config.c_id,\n",
    "                                                           client_secret= config.c_se))\n",
    "import pandas as pd\n",
    "import pickle\n",
    "from sklearn import datasets\n",
    "from sklearn.preprocessing import StandardScaler\n",
    "from sklearn.cluster import KMeans\n",
    "from sklearn.metrics import silhouette_score\n",
    "from IPython.display import IFrame"
   ]
  },
  {
   "cell_type": "code",
   "execution_count": 111,
   "id": "1162cf18",
   "metadata": {},
   "outputs": [],
   "source": [
    "def load(filename = \"filename.pickle\"): \n",
    "    try: \n",
    "        with open(filename, \"rb\") as f: \n",
    "            return pickle.load(f) \n",
    "        \n",
    "    except FileNotFoundError: \n",
    "        print(\"File not found!\") \n"
   ]
  },
  {
   "cell_type": "code",
   "execution_count": 112,
   "id": "9b8391db",
   "metadata": {},
   "outputs": [],
   "source": [
    "# loading scaler\n",
    "scaler = load(\"Model/scaler.pickle\")"
   ]
  },
  {
   "cell_type": "code",
   "execution_count": 113,
   "id": "641db7a2",
   "metadata": {},
   "outputs": [],
   "source": [
    "# loading kmeans\n",
    "kmeans = load(\"Model/kmeans_8.pickle\")"
   ]
  },
  {
   "cell_type": "code",
   "execution_count": 114,
   "id": "4f28689e",
   "metadata": {},
   "outputs": [
    {
     "data": {
      "text/html": [
       "<div>\n",
       "<style scoped>\n",
       "    .dataframe tbody tr th:only-of-type {\n",
       "        vertical-align: middle;\n",
       "    }\n",
       "\n",
       "    .dataframe tbody tr th {\n",
       "        vertical-align: top;\n",
       "    }\n",
       "\n",
       "    .dataframe thead th {\n",
       "        text-align: right;\n",
       "    }\n",
       "</style>\n",
       "<table border=\"1\" class=\"dataframe\">\n",
       "  <thead>\n",
       "    <tr style=\"text-align: right;\">\n",
       "      <th></th>\n",
       "      <th>title</th>\n",
       "      <th>artist</th>\n",
       "      <th>id</th>\n",
       "      <th>danceability</th>\n",
       "      <th>energy</th>\n",
       "      <th>key</th>\n",
       "      <th>loudness</th>\n",
       "      <th>mode</th>\n",
       "      <th>speechiness</th>\n",
       "      <th>acousticness</th>\n",
       "      <th>instrumentalness</th>\n",
       "      <th>liveness</th>\n",
       "      <th>valence</th>\n",
       "      <th>tempo</th>\n",
       "      <th>cluster</th>\n",
       "    </tr>\n",
       "  </thead>\n",
       "  <tbody>\n",
       "    <tr>\n",
       "      <th>0</th>\n",
       "      <td>Crazy - Single Version</td>\n",
       "      <td>Patsy Cline, The Jordanaires</td>\n",
       "      <td>3zpj9dvJABiyMrmLCPw6i8</td>\n",
       "      <td>0.471</td>\n",
       "      <td>0.021</td>\n",
       "      <td>10</td>\n",
       "      <td>-24.385</td>\n",
       "      <td>1</td>\n",
       "      <td>0.0366</td>\n",
       "      <td>0.931</td>\n",
       "      <td>0.000001</td>\n",
       "      <td>0.1030</td>\n",
       "      <td>0.356</td>\n",
       "      <td>107.796</td>\n",
       "      <td>7</td>\n",
       "    </tr>\n",
       "    <tr>\n",
       "      <th>1</th>\n",
       "      <td>Folsom Prison Blues</td>\n",
       "      <td>Johnny Cash, The Tennessee Two</td>\n",
       "      <td>121sjkub4p4zcFNozkKnQD</td>\n",
       "      <td>0.754</td>\n",
       "      <td>0.540</td>\n",
       "      <td>5</td>\n",
       "      <td>-8.326</td>\n",
       "      <td>1</td>\n",
       "      <td>0.0266</td>\n",
       "      <td>0.687</td>\n",
       "      <td>0.000075</td>\n",
       "      <td>0.0868</td>\n",
       "      <td>0.790</td>\n",
       "      <td>101.738</td>\n",
       "      <td>6</td>\n",
       "    </tr>\n",
       "    <tr>\n",
       "      <th>2</th>\n",
       "      <td>I Will Always Love You</td>\n",
       "      <td>Dolly Parton</td>\n",
       "      <td>6nRvgo4ySezQKD1D7NIqAu</td>\n",
       "      <td>0.446</td>\n",
       "      <td>0.142</td>\n",
       "      <td>9</td>\n",
       "      <td>-13.498</td>\n",
       "      <td>1</td>\n",
       "      <td>0.0335</td>\n",
       "      <td>0.960</td>\n",
       "      <td>0.001140</td>\n",
       "      <td>0.1010</td>\n",
       "      <td>0.156</td>\n",
       "      <td>135.724</td>\n",
       "      <td>6</td>\n",
       "    </tr>\n",
       "    <tr>\n",
       "      <th>3</th>\n",
       "      <td>Springsteen</td>\n",
       "      <td>Eric Church</td>\n",
       "      <td>05ZACkzW8YbRq3eFgIfSNB</td>\n",
       "      <td>0.692</td>\n",
       "      <td>0.809</td>\n",
       "      <td>2</td>\n",
       "      <td>-5.935</td>\n",
       "      <td>1</td>\n",
       "      <td>0.0255</td>\n",
       "      <td>0.100</td>\n",
       "      <td>0.000098</td>\n",
       "      <td>0.1850</td>\n",
       "      <td>0.927</td>\n",
       "      <td>104.023</td>\n",
       "      <td>3</td>\n",
       "    </tr>\n",
       "    <tr>\n",
       "      <th>4</th>\n",
       "      <td>He Stopped Loving Her Today</td>\n",
       "      <td>George Jones</td>\n",
       "      <td>6qMgx8ys4MNNxypaIvbG0i</td>\n",
       "      <td>0.430</td>\n",
       "      <td>0.173</td>\n",
       "      <td>8</td>\n",
       "      <td>-18.597</td>\n",
       "      <td>1</td>\n",
       "      <td>0.0321</td>\n",
       "      <td>0.594</td>\n",
       "      <td>0.000111</td>\n",
       "      <td>0.2240</td>\n",
       "      <td>0.365</td>\n",
       "      <td>72.103</td>\n",
       "      <td>6</td>\n",
       "    </tr>\n",
       "  </tbody>\n",
       "</table>\n",
       "</div>"
      ],
      "text/plain": [
       "                         title                          artist  \\\n",
       "0       Crazy - Single Version    Patsy Cline, The Jordanaires   \n",
       "1          Folsom Prison Blues  Johnny Cash, The Tennessee Two   \n",
       "2       I Will Always Love You                    Dolly Parton   \n",
       "3                  Springsteen                     Eric Church   \n",
       "4  He Stopped Loving Her Today                    George Jones   \n",
       "\n",
       "                       id  danceability  energy  key  loudness  mode  \\\n",
       "0  3zpj9dvJABiyMrmLCPw6i8         0.471   0.021   10   -24.385     1   \n",
       "1  121sjkub4p4zcFNozkKnQD         0.754   0.540    5    -8.326     1   \n",
       "2  6nRvgo4ySezQKD1D7NIqAu         0.446   0.142    9   -13.498     1   \n",
       "3  05ZACkzW8YbRq3eFgIfSNB         0.692   0.809    2    -5.935     1   \n",
       "4  6qMgx8ys4MNNxypaIvbG0i         0.430   0.173    8   -18.597     1   \n",
       "\n",
       "   speechiness  acousticness  instrumentalness  liveness  valence    tempo  \\\n",
       "0       0.0366         0.931          0.000001    0.1030    0.356  107.796   \n",
       "1       0.0266         0.687          0.000075    0.0868    0.790  101.738   \n",
       "2       0.0335         0.960          0.001140    0.1010    0.156  135.724   \n",
       "3       0.0255         0.100          0.000098    0.1850    0.927  104.023   \n",
       "4       0.0321         0.594          0.000111    0.2240    0.365   72.103   \n",
       "\n",
       "   cluster  \n",
       "0        7  \n",
       "1        6  \n",
       "2        6  \n",
       "3        3  \n",
       "4        6  "
      ]
     },
     "execution_count": 114,
     "metadata": {},
     "output_type": "execute_result"
    }
   ],
   "source": [
    "# loading full dataframe\n",
    "all_info_df = pd.read_csv('all_info_df.csv')\n",
    "all_info_df.head()"
   ]
  },
  {
   "cell_type": "markdown",
   "id": "333064fd",
   "metadata": {},
   "source": [
    "### User input"
   ]
  },
  {
   "cell_type": "code",
   "execution_count": 119,
   "id": "70d0e87a",
   "metadata": {},
   "outputs": [],
   "source": [
    "def song_rec():\n",
    "    user_input = input(\"Please input a song: \")\n",
    "    result = sp.search(q=user_input ,limit=1,market=\"GB\")\n",
    "    result_uri = result['tracks']['items'][0]['uri']\n",
    "    my_dict = sp.audio_features(result_uri)[0]\n",
    "    my_dict_new = { key: [my_dict[key]] for key in list(my_dict.keys()) }\n",
    "    user_input_af_df = pd.DataFrame(my_dict_new)\n",
    "    user_input_af_df.drop(columns=['type','uri','track_href','analysis_url','duration_ms','time_signature','id'],inplace=True)\n",
    "    user_input_af_df_tf = scaler.transform(user_input_af_df)\n",
    "    user_input_cluster = kmeans.predict(user_input_af_df_tf)[0]\n",
    "    track_id = all_info_df[all_info_df['cluster']==user_input_cluster].sample(1)['id'].values[0]\n",
    "    return IFrame(src=\"https://open.spotify.com/embed/track/\"+track_id, width=\"320\", height=\"80\", frameborder=\"0\", allowtransparency=\"true\", allow=\"encrypted-media\",)"
   ]
  },
  {
   "cell_type": "code",
   "execution_count": 120,
   "id": "a9a3c7a9",
   "metadata": {},
   "outputs": [
    {
     "name": "stdout",
     "output_type": "stream",
     "text": [
      "Please input a song: Crazy - Single Version\n"
     ]
    },
    {
     "name": "stderr",
     "output_type": "stream",
     "text": [
      "C:\\Users\\Bosco\\anaconda3\\envs\\DA_ENV\\lib\\site-packages\\sklearn\\base.py:445: UserWarning: X does not have valid feature names, but KMeans was fitted with feature names\n",
      "  warnings.warn(\n"
     ]
    },
    {
     "data": {
      "text/html": [
       "\n",
       "        <iframe\n",
       "            width=\"320\"\n",
       "            height=\"80\"\n",
       "            src=\"https://open.spotify.com/embed/track/1tuoXYM3wDkMZiIDFGKfDx?frameborder=0&allowtransparency=true&allow=encrypted-media\"\n",
       "            frameborder=\"0\"\n",
       "            allowfullscreen\n",
       "            \n",
       "        ></iframe>\n",
       "        "
      ],
      "text/plain": [
       "<IPython.lib.display.IFrame at 0x2b15bfed0a0>"
      ]
     },
     "execution_count": 120,
     "metadata": {},
     "output_type": "execute_result"
    }
   ],
   "source": [
    "song_rec()"
   ]
  },
  {
   "cell_type": "code",
   "execution_count": null,
   "id": "2e385d31",
   "metadata": {},
   "outputs": [],
   "source": []
  },
  {
   "cell_type": "code",
   "execution_count": null,
   "id": "1ea1a340",
   "metadata": {},
   "outputs": [],
   "source": []
  },
  {
   "cell_type": "code",
   "execution_count": null,
   "id": "9d0fd5a9",
   "metadata": {},
   "outputs": [],
   "source": []
  },
  {
   "cell_type": "code",
   "execution_count": null,
   "id": "e0c55e3b",
   "metadata": {},
   "outputs": [],
   "source": []
  },
  {
   "cell_type": "code",
   "execution_count": null,
   "id": "8ec935cf",
   "metadata": {},
   "outputs": [],
   "source": []
  }
 ],
 "metadata": {
  "kernelspec": {
   "display_name": "Python 3 (ipykernel)",
   "language": "python",
   "name": "python3"
  },
  "language_info": {
   "codemirror_mode": {
    "name": "ipython",
    "version": 3
   },
   "file_extension": ".py",
   "mimetype": "text/x-python",
   "name": "python",
   "nbconvert_exporter": "python",
   "pygments_lexer": "ipython3",
   "version": "3.9.7"
  }
 },
 "nbformat": 4,
 "nbformat_minor": 5
}
