{
 "cells": [
  {
   "cell_type": "code",
   "execution_count": 48,
   "id": "cd046286",
   "metadata": {},
   "outputs": [],
   "source": [
    "import config"
   ]
  },
  {
   "cell_type": "code",
   "execution_count": 49,
   "id": "d15bfa0d",
   "metadata": {},
   "outputs": [],
   "source": [
    "import spotipy\n",
    "import json\n",
    "import pprint\n",
    "from bs4 import BeautifulSoup\n",
    "import requests\n",
    "import pandas as pd\n",
    "import numpy as np\n",
    "from pyjarowinkler import distance\n",
    "from spotipy.oauth2 import SpotifyClientCredentials\n",
    "\n",
    "\n",
    "#Initialize SpotiPy with user credentias\n",
    "sp = spotipy.Spotify(auth_manager=SpotifyClientCredentials(client_id= config.c_id,\n",
    "                                                           client_secret= config.c_se))"
   ]
  },
  {
   "cell_type": "markdown",
   "id": "d51fa5c2",
   "metadata": {},
   "source": [
    "### Getting playlists"
   ]
  },
  {
   "cell_type": "code",
   "execution_count": 50,
   "id": "8865ec4d",
   "metadata": {},
   "outputs": [],
   "source": [
    "# locating playlist\n",
    "playlist_country = sp.user_playlist_tracks(\"spotify\", \"3RPaWvjgg1SAi8oIh09Irp\",market=\"GB\")\n",
    "playlist_rock = sp.user_playlist_tracks(\"spotify\", \"7KMtxb9kh3TtVvJTdLtJ2K\",market=\"GB\")\n",
    "playlist_house = sp.user_playlist_tracks(\"spotify\", \"4VXFwpNvQysB8yS6E2t2ls\",market=\"GB\")\n",
    "playlist_classicals = sp.user_playlist_tracks(\"spotify\", \"1h0CEZCm6IbFTbxThn6Xcs\",market=\"GB\")\n",
    "playlist_dance = sp.user_playlist_tracks(\"spotify\", \"794tEP1QrKMcaQcFmEyFst\",market=\"GB\")\n",
    "playlist_hiphop = sp.user_playlist_tracks(\"spotify\", \"0agbFCQZvK4q9WR0d4Iqcj\",market=\"GB\")\n",
    "playlist_pop = sp.user_playlist_tracks(\"spotify\", \"2YRe7HRKNRvXdJBp9nXFza\",market=\"GB\")\n",
    "playlist_jazz = sp.user_playlist_tracks(\"spotify\", \"7g2KyiE9RI5F1fV60OIUu4\",market=\"GB\")"
   ]
  },
  {
   "cell_type": "markdown",
   "id": "009b5a49",
   "metadata": {},
   "source": [
    "### Getting tracks"
   ]
  },
  {
   "cell_type": "code",
   "execution_count": 92,
   "id": "73b41642",
   "metadata": {},
   "outputs": [],
   "source": [
    "track=[]"
   ]
  },
  {
   "cell_type": "code",
   "execution_count": 65,
   "id": "9473bf4f",
   "metadata": {},
   "outputs": [],
   "source": [
    "# extracting tracks from playlist\n",
    "def get_playlist_tracks(username, playlist_id):\n",
    "    results = sp.user_playlist_tracks(username,playlist_id,market=\"GB\")\n",
    "    tracks = results['items']\n",
    "    while results['next']:\n",
    "        results = sp.next(results)\n",
    "        tracks.extend(results['items'])\n",
    "    return tracks"
   ]
  },
  {
   "cell_type": "code",
   "execution_count": 66,
   "id": "01dbfad6",
   "metadata": {},
   "outputs": [],
   "source": [
    "tracks_country = get_playlist_tracks(\"username\", \"3RPaWvjgg1SAi8oIh09Irp\")"
   ]
  },
  {
   "cell_type": "code",
   "execution_count": 67,
   "id": "4e3c25b1",
   "metadata": {},
   "outputs": [],
   "source": [
    "for i in range(0, len(tracks_country)):\n",
    "    track.append(tracks_country[i]['track']['name'])"
   ]
  },
  {
   "cell_type": "code",
   "execution_count": 93,
   "id": "708fcdcf",
   "metadata": {},
   "outputs": [
    {
     "data": {
      "text/plain": [
       "[]"
      ]
     },
     "execution_count": 93,
     "metadata": {},
     "output_type": "execute_result"
    }
   ],
   "source": [
    "track"
   ]
  },
  {
   "cell_type": "markdown",
   "id": "7bc9c68a",
   "metadata": {},
   "source": [
    "### Getting artists"
   ]
  },
  {
   "cell_type": "code",
   "execution_count": 94,
   "id": "dbe523b7",
   "metadata": {},
   "outputs": [],
   "source": [
    "artist=[]"
   ]
  },
  {
   "cell_type": "code",
   "execution_count": 70,
   "id": "b1972813",
   "metadata": {},
   "outputs": [],
   "source": [
    "# extracting artists from track\n",
    "def get_artists_from_track(track):\n",
    "    return [artist[\"name\"] for artist in track[\"artists\"]]"
   ]
  },
  {
   "cell_type": "code",
   "execution_count": 71,
   "id": "b16d54fb",
   "metadata": {},
   "outputs": [],
   "source": [
    "# extracting artists from playlist\n",
    "def get_artists_from_playlist(playlist_id):\n",
    "    tracks_from_playlist = get_playlist_tracks(\"spotify\", playlist_id)\n",
    "    return list(get_artists_from_track(track[\"track\"]) for track in tracks_from_playlist)"
   ]
  },
  {
   "cell_type": "code",
   "execution_count": 72,
   "id": "cf47f178",
   "metadata": {},
   "outputs": [],
   "source": [
    "artists_country = get_artists_from_playlist(\"3RPaWvjgg1SAi8oIh09Irp\")"
   ]
  },
  {
   "cell_type": "code",
   "execution_count": 73,
   "id": "21e9b8e1",
   "metadata": {},
   "outputs": [],
   "source": [
    "artist=[]\n",
    "for i in artists_country:\n",
    "    artist.append(\", \".join(i))"
   ]
  },
  {
   "cell_type": "code",
   "execution_count": 95,
   "id": "1ed3f7ba",
   "metadata": {},
   "outputs": [
    {
     "data": {
      "text/plain": [
       "[]"
      ]
     },
     "execution_count": 95,
     "metadata": {},
     "output_type": "execute_result"
    }
   ],
   "source": [
    "artist"
   ]
  },
  {
   "cell_type": "markdown",
   "id": "cda99039",
   "metadata": {},
   "source": [
    "### Getting track ids"
   ]
  },
  {
   "cell_type": "code",
   "execution_count": 96,
   "id": "0e062530",
   "metadata": {},
   "outputs": [],
   "source": [
    "track_id=[]"
   ]
  },
  {
   "cell_type": "code",
   "execution_count": 76,
   "id": "b470c2be",
   "metadata": {},
   "outputs": [],
   "source": [
    "for i in range(0, len(tracks_country)):\n",
    "    track_id.append(tracks_country[i]['track']['id'])"
   ]
  },
  {
   "cell_type": "code",
   "execution_count": 97,
   "id": "751cfdf6",
   "metadata": {},
   "outputs": [
    {
     "data": {
      "text/plain": [
       "[]"
      ]
     },
     "execution_count": 97,
     "metadata": {},
     "output_type": "execute_result"
    }
   ],
   "source": [
    "track_id"
   ]
  },
  {
   "cell_type": "code",
   "execution_count": 78,
   "id": "32700a4e",
   "metadata": {},
   "outputs": [
    {
     "name": "stdout",
     "output_type": "stream",
     "text": [
      "747\n",
      "747\n",
      "747\n"
     ]
    }
   ],
   "source": [
    "print(len(track))\n",
    "print(len(artist))\n",
    "print(len(track_id))"
   ]
  },
  {
   "cell_type": "markdown",
   "id": "1da95517",
   "metadata": {},
   "source": [
    "### Combining data"
   ]
  },
  {
   "cell_type": "code",
   "execution_count": 79,
   "id": "fd7ff09f",
   "metadata": {},
   "outputs": [
    {
     "data": {
      "text/html": [
       "<div>\n",
       "<style scoped>\n",
       "    .dataframe tbody tr th:only-of-type {\n",
       "        vertical-align: middle;\n",
       "    }\n",
       "\n",
       "    .dataframe tbody tr th {\n",
       "        vertical-align: top;\n",
       "    }\n",
       "\n",
       "    .dataframe thead th {\n",
       "        text-align: right;\n",
       "    }\n",
       "</style>\n",
       "<table border=\"1\" class=\"dataframe\">\n",
       "  <thead>\n",
       "    <tr style=\"text-align: right;\">\n",
       "      <th></th>\n",
       "      <th>title</th>\n",
       "      <th>artist</th>\n",
       "      <th>id</th>\n",
       "    </tr>\n",
       "  </thead>\n",
       "  <tbody>\n",
       "    <tr>\n",
       "      <th>0</th>\n",
       "      <td>Crazy - Single Version</td>\n",
       "      <td>Patsy Cline, The Jordanaires</td>\n",
       "      <td>3zpj9dvJABiyMrmLCPw6i8</td>\n",
       "    </tr>\n",
       "    <tr>\n",
       "      <th>1</th>\n",
       "      <td>Folsom Prison Blues</td>\n",
       "      <td>Johnny Cash, The Tennessee Two</td>\n",
       "      <td>121sjkub4p4zcFNozkKnQD</td>\n",
       "    </tr>\n",
       "    <tr>\n",
       "      <th>2</th>\n",
       "      <td>I Will Always Love You</td>\n",
       "      <td>Dolly Parton</td>\n",
       "      <td>6nRvgo4ySezQKD1D7NIqAu</td>\n",
       "    </tr>\n",
       "    <tr>\n",
       "      <th>3</th>\n",
       "      <td>Springsteen</td>\n",
       "      <td>Eric Church</td>\n",
       "      <td>05ZACkzW8YbRq3eFgIfSNB</td>\n",
       "    </tr>\n",
       "    <tr>\n",
       "      <th>4</th>\n",
       "      <td>He Stopped Loving Her Today</td>\n",
       "      <td>George Jones</td>\n",
       "      <td>6qMgx8ys4MNNxypaIvbG0i</td>\n",
       "    </tr>\n",
       "  </tbody>\n",
       "</table>\n",
       "</div>"
      ],
      "text/plain": [
       "                         title                          artist  \\\n",
       "0       Crazy - Single Version    Patsy Cline, The Jordanaires   \n",
       "1          Folsom Prison Blues  Johnny Cash, The Tennessee Two   \n",
       "2       I Will Always Love You                    Dolly Parton   \n",
       "3                  Springsteen                     Eric Church   \n",
       "4  He Stopped Loving Her Today                    George Jones   \n",
       "\n",
       "                       id  \n",
       "0  3zpj9dvJABiyMrmLCPw6i8  \n",
       "1  121sjkub4p4zcFNozkKnQD  \n",
       "2  6nRvgo4ySezQKD1D7NIqAu  \n",
       "3  05ZACkzW8YbRq3eFgIfSNB  \n",
       "4  6qMgx8ys4MNNxypaIvbG0i  "
      ]
     },
     "execution_count": 79,
     "metadata": {},
     "output_type": "execute_result"
    }
   ],
   "source": [
    "# each list becomes a column\n",
    "track_db = pd.DataFrame({'title':track,\n",
    "                         'artist':artist,\n",
    "                         'id':track_id})\n",
    "track_db.head()"
   ]
  },
  {
   "cell_type": "code",
   "execution_count": 98,
   "id": "a701575d",
   "metadata": {},
   "outputs": [],
   "source": [
    "track_df = pd.DataFrame({'title':track,\n",
    "                     'artist':artist,\n",
    "                     'id':track_id})"
   ]
  },
  {
   "cell_type": "code",
   "execution_count": 103,
   "id": "65572b9c",
   "metadata": {},
   "outputs": [],
   "source": [
    "def append_info(playlist_id):\n",
    "    global track_df\n",
    "    new_track_list = get_playlist_tracks(\"spotify\", playlist_id)\n",
    "    new_artist_list = get_artists_from_playlist(playlist_id)\n",
    "    new_track=[]\n",
    "    new_artist=[]\n",
    "    new_track_id=[]\n",
    "    for i in range(0, len(new_track_list)):\n",
    "        new_track.append(new_track_list[i]['track']['name'])\n",
    "    for i in new_artist_list:\n",
    "        new_artist.append(\", \".join(i))\n",
    "    for i in range(0, len(new_track_list)):\n",
    "        new_track_id.append(new_track_list[i]['track']['id']) \n",
    "    new_df = pd.DataFrame({'title':new_track,\n",
    "                         'artist':new_artist,\n",
    "                         'id':new_track_id})\n",
    "    track_df = track_df.append(new_df)\n",
    "\n",
    "    "
   ]
  },
  {
   "cell_type": "code",
   "execution_count": 83,
   "id": "d8becf7b",
   "metadata": {},
   "outputs": [],
   "source": [
    "track_df = track_df.append(track_db)"
   ]
  },
  {
   "cell_type": "code",
   "execution_count": 110,
   "id": "eb4a5301",
   "metadata": {},
   "outputs": [
    {
     "data": {
      "text/html": [
       "<div>\n",
       "<style scoped>\n",
       "    .dataframe tbody tr th:only-of-type {\n",
       "        vertical-align: middle;\n",
       "    }\n",
       "\n",
       "    .dataframe tbody tr th {\n",
       "        vertical-align: top;\n",
       "    }\n",
       "\n",
       "    .dataframe thead th {\n",
       "        text-align: right;\n",
       "    }\n",
       "</style>\n",
       "<table border=\"1\" class=\"dataframe\">\n",
       "  <thead>\n",
       "    <tr style=\"text-align: right;\">\n",
       "      <th></th>\n",
       "      <th>title</th>\n",
       "      <th>artist</th>\n",
       "      <th>id</th>\n",
       "    </tr>\n",
       "  </thead>\n",
       "  <tbody>\n",
       "    <tr>\n",
       "      <th>0</th>\n",
       "      <td>Crazy - Single Version</td>\n",
       "      <td>Patsy Cline, The Jordanaires</td>\n",
       "      <td>3zpj9dvJABiyMrmLCPw6i8</td>\n",
       "    </tr>\n",
       "    <tr>\n",
       "      <th>1</th>\n",
       "      <td>Folsom Prison Blues</td>\n",
       "      <td>Johnny Cash, The Tennessee Two</td>\n",
       "      <td>121sjkub4p4zcFNozkKnQD</td>\n",
       "    </tr>\n",
       "    <tr>\n",
       "      <th>2</th>\n",
       "      <td>I Will Always Love You</td>\n",
       "      <td>Dolly Parton</td>\n",
       "      <td>6nRvgo4ySezQKD1D7NIqAu</td>\n",
       "    </tr>\n",
       "    <tr>\n",
       "      <th>3</th>\n",
       "      <td>Springsteen</td>\n",
       "      <td>Eric Church</td>\n",
       "      <td>05ZACkzW8YbRq3eFgIfSNB</td>\n",
       "    </tr>\n",
       "    <tr>\n",
       "      <th>4</th>\n",
       "      <td>He Stopped Loving Her Today</td>\n",
       "      <td>George Jones</td>\n",
       "      <td>6qMgx8ys4MNNxypaIvbG0i</td>\n",
       "    </tr>\n",
       "    <tr>\n",
       "      <th>...</th>\n",
       "      <td>...</td>\n",
       "      <td>...</td>\n",
       "      <td>...</td>\n",
       "    </tr>\n",
       "    <tr>\n",
       "      <th>995</th>\n",
       "      <td>Jealousy</td>\n",
       "      <td>Martin Solveig</td>\n",
       "      <td>1u4HCtZ0iI8P8Bb4YcGuYP</td>\n",
       "    </tr>\n",
       "    <tr>\n",
       "      <th>996</th>\n",
       "      <td>Rise - Lushington Remix</td>\n",
       "      <td>Miura Keys, Raphaella, Lushington</td>\n",
       "      <td>2BjeIyXzFtM8s929gzXSvN</td>\n",
       "    </tr>\n",
       "    <tr>\n",
       "      <th>997</th>\n",
       "      <td>Make Me Feel</td>\n",
       "      <td>John Summit</td>\n",
       "      <td>4vgP9RNzsXEUcW7Ws50VrI</td>\n",
       "    </tr>\n",
       "    <tr>\n",
       "      <th>998</th>\n",
       "      <td>Out Of Control - Pat Vocal Mix</td>\n",
       "      <td>Lupe Fuentes</td>\n",
       "      <td>1QqON1dtjcsi2As0asNDQK</td>\n",
       "    </tr>\n",
       "    <tr>\n",
       "      <th>999</th>\n",
       "      <td>Infinity</td>\n",
       "      <td>Infinity Ink</td>\n",
       "      <td>2zVVoSwUhZuOV0biyFJK8R</td>\n",
       "    </tr>\n",
       "  </tbody>\n",
       "</table>\n",
       "<p>2747 rows × 3 columns</p>\n",
       "</div>"
      ],
      "text/plain": [
       "                              title                             artist  \\\n",
       "0            Crazy - Single Version       Patsy Cline, The Jordanaires   \n",
       "1               Folsom Prison Blues     Johnny Cash, The Tennessee Two   \n",
       "2            I Will Always Love You                       Dolly Parton   \n",
       "3                       Springsteen                        Eric Church   \n",
       "4       He Stopped Loving Her Today                       George Jones   \n",
       "..                              ...                                ...   \n",
       "995                        Jealousy                     Martin Solveig   \n",
       "996         Rise - Lushington Remix  Miura Keys, Raphaella, Lushington   \n",
       "997                    Make Me Feel                        John Summit   \n",
       "998  Out Of Control - Pat Vocal Mix                       Lupe Fuentes   \n",
       "999                        Infinity                       Infinity Ink   \n",
       "\n",
       "                         id  \n",
       "0    3zpj9dvJABiyMrmLCPw6i8  \n",
       "1    121sjkub4p4zcFNozkKnQD  \n",
       "2    6nRvgo4ySezQKD1D7NIqAu  \n",
       "3    05ZACkzW8YbRq3eFgIfSNB  \n",
       "4    6qMgx8ys4MNNxypaIvbG0i  \n",
       "..                      ...  \n",
       "995  1u4HCtZ0iI8P8Bb4YcGuYP  \n",
       "996  2BjeIyXzFtM8s929gzXSvN  \n",
       "997  4vgP9RNzsXEUcW7Ws50VrI  \n",
       "998  1QqON1dtjcsi2As0asNDQK  \n",
       "999  2zVVoSwUhZuOV0biyFJK8R  \n",
       "\n",
       "[2747 rows x 3 columns]"
      ]
     },
     "execution_count": 110,
     "metadata": {},
     "output_type": "execute_result"
    }
   ],
   "source": [
    "track_df"
   ]
  },
  {
   "cell_type": "code",
   "execution_count": 105,
   "id": "36d3edd6",
   "metadata": {},
   "outputs": [],
   "source": [
    "append_info(\"3RPaWvjgg1SAi8oIh09Irp\")"
   ]
  },
  {
   "cell_type": "code",
   "execution_count": 107,
   "id": "6f4de23b",
   "metadata": {},
   "outputs": [],
   "source": [
    "append_info(\"7KMtxb9kh3TtVvJTdLtJ2K\")"
   ]
  },
  {
   "cell_type": "code",
   "execution_count": 109,
   "id": "af2fc5f2",
   "metadata": {},
   "outputs": [],
   "source": [
    "append_info(\"4VXFwpNvQysB8yS6E2t2ls\")"
   ]
  },
  {
   "cell_type": "code",
   "execution_count": 47,
   "id": "3bbe018d",
   "metadata": {},
   "outputs": [
    {
     "data": {
      "text/html": [
       "<div>\n",
       "<style scoped>\n",
       "    .dataframe tbody tr th:only-of-type {\n",
       "        vertical-align: middle;\n",
       "    }\n",
       "\n",
       "    .dataframe tbody tr th {\n",
       "        vertical-align: top;\n",
       "    }\n",
       "\n",
       "    .dataframe thead th {\n",
       "        text-align: right;\n",
       "    }\n",
       "</style>\n",
       "<table border=\"1\" class=\"dataframe\">\n",
       "  <thead>\n",
       "    <tr style=\"text-align: right;\">\n",
       "      <th></th>\n",
       "      <th>title</th>\n",
       "      <th>artist</th>\n",
       "      <th>id</th>\n",
       "    </tr>\n",
       "  </thead>\n",
       "  <tbody>\n",
       "    <tr>\n",
       "      <th>0</th>\n",
       "      <td>Crazy - Single Version</td>\n",
       "      <td>Patsy Cline, The Jordanaires</td>\n",
       "      <td>3zpj9dvJABiyMrmLCPw6i8</td>\n",
       "    </tr>\n",
       "    <tr>\n",
       "      <th>1</th>\n",
       "      <td>Folsom Prison Blues</td>\n",
       "      <td>Johnny Cash, The Tennessee Two</td>\n",
       "      <td>121sjkub4p4zcFNozkKnQD</td>\n",
       "    </tr>\n",
       "    <tr>\n",
       "      <th>2</th>\n",
       "      <td>I Will Always Love You</td>\n",
       "      <td>Dolly Parton</td>\n",
       "      <td>6nRvgo4ySezQKD1D7NIqAu</td>\n",
       "    </tr>\n",
       "    <tr>\n",
       "      <th>3</th>\n",
       "      <td>Springsteen</td>\n",
       "      <td>Eric Church</td>\n",
       "      <td>05ZACkzW8YbRq3eFgIfSNB</td>\n",
       "    </tr>\n",
       "    <tr>\n",
       "      <th>4</th>\n",
       "      <td>He Stopped Loving Her Today</td>\n",
       "      <td>George Jones</td>\n",
       "      <td>6qMgx8ys4MNNxypaIvbG0i</td>\n",
       "    </tr>\n",
       "    <tr>\n",
       "      <th>...</th>\n",
       "      <td>...</td>\n",
       "      <td>...</td>\n",
       "      <td>...</td>\n",
       "    </tr>\n",
       "    <tr>\n",
       "      <th>93</th>\n",
       "      <td>9Pm (Till I Come)</td>\n",
       "      <td>ATB</td>\n",
       "      <td>1CgbwsrNDlFrRuk2ebQ7zr</td>\n",
       "    </tr>\n",
       "    <tr>\n",
       "      <th>94</th>\n",
       "      <td>Red Alert - Jaxx Radio Mix</td>\n",
       "      <td>Basement Jaxx</td>\n",
       "      <td>2F5QeVVmCOuelAkRbni1bW</td>\n",
       "    </tr>\n",
       "    <tr>\n",
       "      <th>95</th>\n",
       "      <td>Love Is Gone</td>\n",
       "      <td>David Guetta, Chris Willis</td>\n",
       "      <td>2oWIk5cGvxMsJndbd5aW7g</td>\n",
       "    </tr>\n",
       "    <tr>\n",
       "      <th>96</th>\n",
       "      <td>Blue (Da Ba Dee) - Gabry Ponte Ice Pop Radio</td>\n",
       "      <td>Eiffel 65, Gabry Ponte</td>\n",
       "      <td>2yAVzRiEQooPEJ9SYx11L3</td>\n",
       "    </tr>\n",
       "    <tr>\n",
       "      <th>97</th>\n",
       "      <td>Flight 643</td>\n",
       "      <td>Tiësto</td>\n",
       "      <td>0YWPaju1HwzKUroXdnbodt</td>\n",
       "    </tr>\n",
       "  </tbody>\n",
       "</table>\n",
       "<p>845 rows × 3 columns</p>\n",
       "</div>"
      ],
      "text/plain": [
       "                                           title  \\\n",
       "0                         Crazy - Single Version   \n",
       "1                            Folsom Prison Blues   \n",
       "2                         I Will Always Love You   \n",
       "3                                    Springsteen   \n",
       "4                    He Stopped Loving Her Today   \n",
       "..                                           ...   \n",
       "93                             9Pm (Till I Come)   \n",
       "94                    Red Alert - Jaxx Radio Mix   \n",
       "95                                  Love Is Gone   \n",
       "96  Blue (Da Ba Dee) - Gabry Ponte Ice Pop Radio   \n",
       "97                                    Flight 643   \n",
       "\n",
       "                            artist                      id  \n",
       "0     Patsy Cline, The Jordanaires  3zpj9dvJABiyMrmLCPw6i8  \n",
       "1   Johnny Cash, The Tennessee Two  121sjkub4p4zcFNozkKnQD  \n",
       "2                     Dolly Parton  6nRvgo4ySezQKD1D7NIqAu  \n",
       "3                      Eric Church  05ZACkzW8YbRq3eFgIfSNB  \n",
       "4                     George Jones  6qMgx8ys4MNNxypaIvbG0i  \n",
       "..                             ...                     ...  \n",
       "93                             ATB  1CgbwsrNDlFrRuk2ebQ7zr  \n",
       "94                   Basement Jaxx  2F5QeVVmCOuelAkRbni1bW  \n",
       "95      David Guetta, Chris Willis  2oWIk5cGvxMsJndbd5aW7g  \n",
       "96          Eiffel 65, Gabry Ponte  2yAVzRiEQooPEJ9SYx11L3  \n",
       "97                          Tiësto  0YWPaju1HwzKUroXdnbodt  \n",
       "\n",
       "[845 rows x 3 columns]"
      ]
     },
     "execution_count": 47,
     "metadata": {},
     "output_type": "execute_result"
    }
   ],
   "source": [
    "append_info(\"794tEP1QrKMcaQcFmEyFst\")"
   ]
  },
  {
   "cell_type": "code",
   "execution_count": null,
   "id": "d076f9e9",
   "metadata": {},
   "outputs": [],
   "source": [
    "playlist_rock = sp.user_playlist_tracks(\"spotify\", \"7KMtxb9kh3TtVvJTdLtJ2K\",market=\"GB\")\n",
    "playlist_house = sp.user_playlist_tracks(\"spotify\", \"4VXFwpNvQysB8yS6E2t2ls\",market=\"GB\")\n",
    "playlist_classicals = sp.user_playlist_tracks(\"spotify\", \"1h0CEZCm6IbFTbxThn6Xcs\",market=\"GB\")\n",
    "playlist_dance = sp.user_playlist_tracks(\"spotify\", \"794tEP1QrKMcaQcFmEyFst\",market=\"GB\")\n",
    "playlist_hiphop = sp.user_playlist_tracks(\"spotify\", \"0agbFCQZvK4q9WR0d4Iqcj\",market=\"GB\")\n",
    "playlist_pop = sp.user_playlist_tracks(\"spotify\", \"2YRe7HRKNRvXdJBp9nXFza\",market=\"GB\")\n",
    "playlist_jazz = sp.user_playlist_tracks(\"spotify\", \"7g2KyiE9RI5F1fV60OIUu4\",market=\"GB\")"
   ]
  },
  {
   "cell_type": "code",
   "execution_count": null,
   "id": "5e5760fd",
   "metadata": {},
   "outputs": [],
   "source": []
  }
 ],
 "metadata": {
  "kernelspec": {
   "display_name": "Python 3 (ipykernel)",
   "language": "python",
   "name": "python3"
  },
  "language_info": {
   "codemirror_mode": {
    "name": "ipython",
    "version": 3
   },
   "file_extension": ".py",
   "mimetype": "text/x-python",
   "name": "python",
   "nbconvert_exporter": "python",
   "pygments_lexer": "ipython3",
   "version": "3.9.7"
  }
 },
 "nbformat": 4,
 "nbformat_minor": 5
}
