{
 "cells": [
  {
   "cell_type": "code",
   "execution_count": 1,
   "id": "cd046286",
   "metadata": {},
   "outputs": [],
   "source": [
    "import config"
   ]
  },
  {
   "cell_type": "code",
   "execution_count": 2,
   "id": "d15bfa0d",
   "metadata": {},
   "outputs": [],
   "source": [
    "import spotipy\n",
    "import json\n",
    "import pprint\n",
    "from bs4 import BeautifulSoup\n",
    "import requests\n",
    "import pandas as pd\n",
    "import numpy as np\n",
    "from pyjarowinkler import distance\n",
    "from spotipy.oauth2 import SpotifyClientCredentials\n",
    "\n",
    "\n",
    "#Initialize SpotiPy with user credentias\n",
    "sp = spotipy.Spotify(auth_manager=SpotifyClientCredentials(client_id= config.c_id,\n",
    "                                                           client_secret= config.c_se))"
   ]
  },
  {
   "cell_type": "markdown",
   "id": "d51fa5c2",
   "metadata": {},
   "source": [
    "### Getting playlists"
   ]
  },
  {
   "cell_type": "code",
   "execution_count": 28,
   "id": "8865ec4d",
   "metadata": {},
   "outputs": [],
   "source": [
    "# locating playlist\n",
    "playlist_country = sp.user_playlist_tracks(\"spotify\", \"3RPaWvjgg1SAi8oIh09Irp\",market=\"GB\")\n",
    "playlist_rock = sp.user_playlist_tracks(\"spotify\", \"7KMtxb9kh3TtVvJTdLtJ2K\",market=\"GB\")\n",
    "playlist_house = sp.user_playlist_tracks(\"spotify\", \"4VXFwpNvQysB8yS6E2t2ls\",market=\"GB\")\n",
    "playlist_classicals = sp.user_playlist_tracks(\"spotify\", \"1h0CEZCm6IbFTbxThn6Xcs\",market=\"GB\")\n",
    "playlist_dance = sp.user_playlist_tracks(\"spotify\", \"794tEP1QrKMcaQcFmEyFst\",market=\"GB\")\n",
    "playlist_hiphop = sp.user_playlist_tracks(\"spotify\", \"0agbFCQZvK4q9WR0d4Iqcj\",market=\"GB\")\n",
    "playlist_pop = sp.user_playlist_tracks(\"spotify\", \"2YRe7HRKNRvXdJBp9nXFza\",market=\"GB\")\n",
    "playlist_jazz = sp.user_playlist_tracks(\"spotify\", \"7g2KyiE9RI5F1fV60OIUu4\",market=\"GB\")\n",
    "playlist_kpop = sp.user_playlist_tracks(\"spotify\", \"37i9dQZF1DX14fiWYoe7Oh\",market=\"GB\")\n",
    "playlist_rnb = sp.user_playlist_tracks(\"spotify\", \"37i9dQZF1DX04mASjTsvf0\",market=\"GB\")\n",
    "playlist_metal = sp.user_playlist_tracks(\"spotify\", \"37i9dQZF1DX9qNs32fujYe\",market=\"GB\")\n",
    "playlist_techno = sp.user_playlist_tracks(\"spotify\", \"37i9dQZF1DX6J5NfMJS675\",market=\"GB\")"
   ]
  },
  {
   "cell_type": "markdown",
   "id": "009b5a49",
   "metadata": {},
   "source": [
    "### Foundation for tracks"
   ]
  },
  {
   "cell_type": "code",
   "execution_count": 4,
   "id": "73b41642",
   "metadata": {},
   "outputs": [],
   "source": [
    "track=[]"
   ]
  },
  {
   "cell_type": "code",
   "execution_count": 5,
   "id": "9473bf4f",
   "metadata": {},
   "outputs": [],
   "source": [
    "# extracting tracks from playlist\n",
    "def get_playlist_tracks(username, playlist_id):\n",
    "    results = sp.user_playlist_tracks(username,playlist_id,market=\"GB\")\n",
    "    tracks = results['items']\n",
    "    while results['next']:\n",
    "        results = sp.next(results)\n",
    "        tracks.extend(results['items'])\n",
    "    return tracks"
   ]
  },
  {
   "cell_type": "markdown",
   "id": "7bc9c68a",
   "metadata": {},
   "source": [
    "### Foundation for artists"
   ]
  },
  {
   "cell_type": "code",
   "execution_count": 6,
   "id": "dbe523b7",
   "metadata": {},
   "outputs": [],
   "source": [
    "artist=[]"
   ]
  },
  {
   "cell_type": "code",
   "execution_count": 7,
   "id": "b1972813",
   "metadata": {},
   "outputs": [],
   "source": [
    "# extracting artists from track\n",
    "def get_artists_from_track(track):\n",
    "    return [artist[\"name\"] for artist in track[\"artists\"]]"
   ]
  },
  {
   "cell_type": "code",
   "execution_count": 8,
   "id": "b16d54fb",
   "metadata": {},
   "outputs": [],
   "source": [
    "# extracting artists from playlist\n",
    "def get_artists_from_playlist(playlist_id):\n",
    "    tracks_from_playlist = get_playlist_tracks(\"spotify\", playlist_id)\n",
    "    return list(get_artists_from_track(track[\"track\"]) for track in tracks_from_playlist)"
   ]
  },
  {
   "cell_type": "markdown",
   "id": "cda99039",
   "metadata": {},
   "source": [
    "### Foundation for track ids"
   ]
  },
  {
   "cell_type": "code",
   "execution_count": 9,
   "id": "0e062530",
   "metadata": {},
   "outputs": [],
   "source": [
    "track_id=[]"
   ]
  },
  {
   "cell_type": "markdown",
   "id": "1da95517",
   "metadata": {},
   "source": [
    "### Combining data"
   ]
  },
  {
   "cell_type": "code",
   "execution_count": 10,
   "id": "a701575d",
   "metadata": {},
   "outputs": [],
   "source": [
    "# creating a dataframe\n",
    "track_df = pd.DataFrame({'title':track,\n",
    "                     'artist':artist,\n",
    "                     'id':track_id})"
   ]
  },
  {
   "cell_type": "code",
   "execution_count": 11,
   "id": "65572b9c",
   "metadata": {},
   "outputs": [],
   "source": [
    "# function to call tracks, artists and track ids from a playlist\n",
    "def append_info(playlist_id):\n",
    "    global track_df\n",
    "    new_track_list = get_playlist_tracks(\"spotify\", playlist_id)\n",
    "    new_artist_list = get_artists_from_playlist(playlist_id)\n",
    "    new_track=[]\n",
    "    new_artist=[]\n",
    "    new_track_id=[]\n",
    "    for i in range(0, len(new_track_list)):\n",
    "        new_track.append(new_track_list[i]['track']['name'])\n",
    "    for i in new_artist_list:\n",
    "        new_artist.append(\", \".join(i))\n",
    "    for i in range(0, len(new_track_list)):\n",
    "        new_track_id.append(new_track_list[i]['track']['id']) \n",
    "    new_df = pd.DataFrame({'title':new_track,\n",
    "                         'artist':new_artist,\n",
    "                         'id':new_track_id})\n",
    "    track_df = track_df.append(new_df)    "
   ]
  },
  {
   "cell_type": "code",
   "execution_count": 12,
   "id": "36d3edd6",
   "metadata": {},
   "outputs": [],
   "source": [
    "append_info(\"3RPaWvjgg1SAi8oIh09Irp\")"
   ]
  },
  {
   "cell_type": "code",
   "execution_count": 13,
   "id": "6f4de23b",
   "metadata": {},
   "outputs": [],
   "source": [
    "append_info(\"7KMtxb9kh3TtVvJTdLtJ2K\")"
   ]
  },
  {
   "cell_type": "code",
   "execution_count": 14,
   "id": "af2fc5f2",
   "metadata": {},
   "outputs": [],
   "source": [
    "append_info(\"4VXFwpNvQysB8yS6E2t2ls\")"
   ]
  },
  {
   "cell_type": "code",
   "execution_count": 15,
   "id": "3bbe018d",
   "metadata": {},
   "outputs": [],
   "source": [
    "append_info(\"1h0CEZCm6IbFTbxThn6Xcs\")"
   ]
  },
  {
   "cell_type": "code",
   "execution_count": 16,
   "id": "3dd5a182",
   "metadata": {},
   "outputs": [],
   "source": [
    "append_info(\"794tEP1QrKMcaQcFmEyFst\")"
   ]
  },
  {
   "cell_type": "code",
   "execution_count": 17,
   "id": "3914c56b",
   "metadata": {},
   "outputs": [],
   "source": [
    "append_info(\"0agbFCQZvK4q9WR0d4Iqcj\")"
   ]
  },
  {
   "cell_type": "code",
   "execution_count": 18,
   "id": "a313622c",
   "metadata": {},
   "outputs": [],
   "source": [
    "append_info(\"2YRe7HRKNRvXdJBp9nXFza\")"
   ]
  },
  {
   "cell_type": "code",
   "execution_count": 19,
   "id": "fcb08bd4",
   "metadata": {},
   "outputs": [],
   "source": [
    "append_info(\"7g2KyiE9RI5F1fV60OIUu4\")"
   ]
  },
  {
   "cell_type": "code",
   "execution_count": 24,
   "id": "027ec6f4",
   "metadata": {},
   "outputs": [],
   "source": [
    "append_info(\"37i9dQZF1DX14fiWYoe7Oh\")"
   ]
  },
  {
   "cell_type": "code",
   "execution_count": 26,
   "id": "a70659fe",
   "metadata": {},
   "outputs": [],
   "source": [
    "append_info(\"37i9dQZF1DX04mASjTsvf0\")"
   ]
  },
  {
   "cell_type": "code",
   "execution_count": 29,
   "id": "da22f0eb",
   "metadata": {},
   "outputs": [],
   "source": [
    "append_info(\"37i9dQZF1DX9qNs32fujYe\")"
   ]
  },
  {
   "cell_type": "code",
   "execution_count": 30,
   "id": "44f50978",
   "metadata": {},
   "outputs": [],
   "source": [
    "append_info(\"37i9dQZF1DX6J5NfMJS675\")"
   ]
  },
  {
   "cell_type": "code",
   "execution_count": 31,
   "id": "eb4a5301",
   "metadata": {},
   "outputs": [
    {
     "data": {
      "text/html": [
       "<div>\n",
       "<style scoped>\n",
       "    .dataframe tbody tr th:only-of-type {\n",
       "        vertical-align: middle;\n",
       "    }\n",
       "\n",
       "    .dataframe tbody tr th {\n",
       "        vertical-align: top;\n",
       "    }\n",
       "\n",
       "    .dataframe thead th {\n",
       "        text-align: right;\n",
       "    }\n",
       "</style>\n",
       "<table border=\"1\" class=\"dataframe\">\n",
       "  <thead>\n",
       "    <tr style=\"text-align: right;\">\n",
       "      <th></th>\n",
       "      <th>title</th>\n",
       "      <th>artist</th>\n",
       "      <th>id</th>\n",
       "    </tr>\n",
       "  </thead>\n",
       "  <tbody>\n",
       "    <tr>\n",
       "      <th>0</th>\n",
       "      <td>Crazy - Single Version</td>\n",
       "      <td>Patsy Cline, The Jordanaires</td>\n",
       "      <td>3zpj9dvJABiyMrmLCPw6i8</td>\n",
       "    </tr>\n",
       "    <tr>\n",
       "      <th>1</th>\n",
       "      <td>Folsom Prison Blues</td>\n",
       "      <td>Johnny Cash, The Tennessee Two</td>\n",
       "      <td>121sjkub4p4zcFNozkKnQD</td>\n",
       "    </tr>\n",
       "    <tr>\n",
       "      <th>2</th>\n",
       "      <td>I Will Always Love You</td>\n",
       "      <td>Dolly Parton</td>\n",
       "      <td>6nRvgo4ySezQKD1D7NIqAu</td>\n",
       "    </tr>\n",
       "    <tr>\n",
       "      <th>3</th>\n",
       "      <td>Springsteen</td>\n",
       "      <td>Eric Church</td>\n",
       "      <td>05ZACkzW8YbRq3eFgIfSNB</td>\n",
       "    </tr>\n",
       "    <tr>\n",
       "      <th>4</th>\n",
       "      <td>He Stopped Loving Her Today</td>\n",
       "      <td>George Jones</td>\n",
       "      <td>6qMgx8ys4MNNxypaIvbG0i</td>\n",
       "    </tr>\n",
       "    <tr>\n",
       "      <th>...</th>\n",
       "      <td>...</td>\n",
       "      <td>...</td>\n",
       "      <td>...</td>\n",
       "    </tr>\n",
       "    <tr>\n",
       "      <th>55</th>\n",
       "      <td>Afterhour</td>\n",
       "      <td>Carlo Ruetz</td>\n",
       "      <td>2Sh9tvtvR7rmnBpeQ7KbPu</td>\n",
       "    </tr>\n",
       "    <tr>\n",
       "      <th>56</th>\n",
       "      <td>Latex</td>\n",
       "      <td>Monika Kruse</td>\n",
       "      <td>7Lp0NobaOnTfqcHPjVXzA6</td>\n",
       "    </tr>\n",
       "    <tr>\n",
       "      <th>57</th>\n",
       "      <td>Whisper</td>\n",
       "      <td>Anna Reusch</td>\n",
       "      <td>0j8iHPirDSkD5nUQw9XzRF</td>\n",
       "    </tr>\n",
       "    <tr>\n",
       "      <th>58</th>\n",
       "      <td>Mother Earth - Original Mix</td>\n",
       "      <td>Fatima Hajji</td>\n",
       "      <td>4U29PAbl99xuzW3JWSX0u0</td>\n",
       "    </tr>\n",
       "    <tr>\n",
       "      <th>59</th>\n",
       "      <td>Space Invaders</td>\n",
       "      <td>Markus Weigelt</td>\n",
       "      <td>6Y0ThJzQPRtddk7Jgx7NXZ</td>\n",
       "    </tr>\n",
       "  </tbody>\n",
       "</table>\n",
       "<p>9406 rows × 3 columns</p>\n",
       "</div>"
      ],
      "text/plain": [
       "                          title                          artist  \\\n",
       "0        Crazy - Single Version    Patsy Cline, The Jordanaires   \n",
       "1           Folsom Prison Blues  Johnny Cash, The Tennessee Two   \n",
       "2        I Will Always Love You                    Dolly Parton   \n",
       "3                   Springsteen                     Eric Church   \n",
       "4   He Stopped Loving Her Today                    George Jones   \n",
       "..                          ...                             ...   \n",
       "55                    Afterhour                     Carlo Ruetz   \n",
       "56                        Latex                    Monika Kruse   \n",
       "57                      Whisper                     Anna Reusch   \n",
       "58  Mother Earth - Original Mix                    Fatima Hajji   \n",
       "59               Space Invaders                  Markus Weigelt   \n",
       "\n",
       "                        id  \n",
       "0   3zpj9dvJABiyMrmLCPw6i8  \n",
       "1   121sjkub4p4zcFNozkKnQD  \n",
       "2   6nRvgo4ySezQKD1D7NIqAu  \n",
       "3   05ZACkzW8YbRq3eFgIfSNB  \n",
       "4   6qMgx8ys4MNNxypaIvbG0i  \n",
       "..                     ...  \n",
       "55  2Sh9tvtvR7rmnBpeQ7KbPu  \n",
       "56  7Lp0NobaOnTfqcHPjVXzA6  \n",
       "57  0j8iHPirDSkD5nUQw9XzRF  \n",
       "58  4U29PAbl99xuzW3JWSX0u0  \n",
       "59  6Y0ThJzQPRtddk7Jgx7NXZ  \n",
       "\n",
       "[9406 rows x 3 columns]"
      ]
     },
     "execution_count": 31,
     "metadata": {},
     "output_type": "execute_result"
    }
   ],
   "source": [
    "track_df"
   ]
  },
  {
   "cell_type": "code",
   "execution_count": 22,
   "id": "5e5760fd",
   "metadata": {},
   "outputs": [
    {
     "data": {
      "text/plain": [
       "<bound method Series.duplicated of 0           Crazy - Single Version\n",
       "1              Folsom Prison Blues\n",
       "2           I Will Always Love You\n",
       "3                      Springsteen\n",
       "4      He Stopped Loving Her Today\n",
       "                  ...             \n",
       "182     Doozy - 1966 Album Version\n",
       "183                     Whispering\n",
       "184                      Pannonica\n",
       "185                    Free Spirit\n",
       "186               (It's Just) Talk\n",
       "Name: title, Length: 8969, dtype: object>"
      ]
     },
     "execution_count": 22,
     "metadata": {},
     "output_type": "execute_result"
    }
   ],
   "source": [
    "# checking duplicates\n",
    "track_df.title.duplicated"
   ]
  },
  {
   "cell_type": "code",
   "execution_count": 33,
   "id": "3611064b",
   "metadata": {},
   "outputs": [],
   "source": [
    "# saving dataframe to a csv\n",
    "from pathlib import Path  \n",
    "filepath = Path('track_df.csv')  \n",
    "filepath.parent.mkdir(parents=True, exist_ok=True)\n",
    "track_df.to_csv(filepath, index=False)"
   ]
  },
  {
   "cell_type": "code",
   "execution_count": null,
   "id": "5704185b",
   "metadata": {},
   "outputs": [],
   "source": []
  }
 ],
 "metadata": {
  "kernelspec": {
   "display_name": "Python 3 (ipykernel)",
   "language": "python",
   "name": "python3"
  },
  "language_info": {
   "codemirror_mode": {
    "name": "ipython",
    "version": 3
   },
   "file_extension": ".py",
   "mimetype": "text/x-python",
   "name": "python",
   "nbconvert_exporter": "python",
   "pygments_lexer": "ipython3",
   "version": "3.9.7"
  }
 },
 "nbformat": 4,
 "nbformat_minor": 5
}
